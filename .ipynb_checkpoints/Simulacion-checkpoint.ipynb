{
 "cells": [
  {
   "cell_type": "markdown",
   "id": "373b08f5-1f66-49c3-80dc-3fdd21fd575f",
   "metadata": {},
   "source": [
    "# Project N°1 \n",
    "Make by:\n",
    "\n",
    "Jose Luis Hincapie Bucheli - 2125340\n",
    "\n",
    "Carlos Andrés Hernández - 2125653"
   ]
  },
  {
   "cell_type": "markdown",
   "id": "7a35865b-305f-4d14-bd48-1e058bf2c3dd",
   "metadata": {},
   "source": [
    "## Require Libraries"
   ]
  },
  {
   "cell_type": "code",
   "execution_count": 1,
   "id": "4709a20c-0ce0-4a24-9607-34e2e179da77",
   "metadata": {},
   "outputs": [
    {
     "name": "stdout",
     "output_type": "stream",
     "text": [
      "Overwriting requirements.txt\n"
     ]
    }
   ],
   "source": [
    "%%writefile requirements.txt\n",
    "numpy==1.25.2\n",
    "prettytable\n",
    "sympy==1.12"
   ]
  },
  {
   "cell_type": "code",
   "execution_count": 2,
   "id": "57d18054-72d4-408a-a889-563a07b1b147",
   "metadata": {
    "scrolled": true
   },
   "outputs": [
    {
     "name": "stdout",
     "output_type": "stream",
     "text": [
      "Requirement already satisfied: numpy==1.25.2 in c:\\users\\jose9\\appdata\\local\\programs\\python\\python310\\lib\\site-packages (from -r requirements.txt (line 1)) (1.25.2)\n",
      "Requirement already satisfied: prettytable in c:\\users\\jose9\\appdata\\local\\programs\\python\\python310\\lib\\site-packages (from -r requirements.txt (line 2)) (3.9.0)\n",
      "Requirement already satisfied: sympy==1.12 in c:\\users\\jose9\\appdata\\local\\programs\\python\\python310\\lib\\site-packages (from -r requirements.txt (line 3)) (1.12)\n",
      "Requirement already satisfied: mpmath>=0.19 in c:\\users\\jose9\\appdata\\local\\programs\\python\\python310\\lib\\site-packages (from sympy==1.12->-r requirements.txt (line 3)) (1.3.0)\n",
      "Requirement already satisfied: wcwidth in c:\\users\\jose9\\appdata\\local\\programs\\python\\python310\\lib\\site-packages (from prettytable->-r requirements.txt (line 2)) (0.2.8)\n",
      "Note: you may need to restart the kernel to use updated packages.\n"
     ]
    },
    {
     "name": "stderr",
     "output_type": "stream",
     "text": [
      "WARNING: There was an error checking the latest version of pip.\n"
     ]
    }
   ],
   "source": [
    "pip install -r requirements.txt"
   ]
  },
  {
   "cell_type": "markdown",
   "id": "b2067d73-8c23-4a5f-8938-4215bd0ff313",
   "metadata": {},
   "source": [
    "Discretization of the initial problem."
   ]
  },
  {
   "cell_type": "code",
   "execution_count": 3,
   "id": "33f21cb2-7ba8-4331-a3c5-ec92bad580df",
   "metadata": {},
   "outputs": [
    {
     "name": "stdout",
     "output_type": "stream",
     "text": [
      "+-------------+----+----+----+----+----+----+----+----+----+-----+-----+-----+-----+-----+-----+-----+-----+-----+-----+-----+-----+-----+-----+\n",
      "|             | W1 | W2 | W3 | W4 | W5 | W6 | W7 | W8 | W9 | W10 | W11 | W12 | W13 | W14 | W15 | W16 | W17 | W18 | W19 | W20 | W21 | W22 | T.I |\n",
      "+-------------+----+----+----+----+----+----+----+----+----+-----+-----+-----+-----+-----+-----+-----+-----+-----+-----+-----+-----+-----+-----+\n",
      "|  Ecuación 1 | -8 | 1  | 0  | 0  | 1  | 0  | 0  | 0  | 0  |  0  |  0  |  0  |  0  |  0  |  0  |  0  |  0  |  0  |  0  |  0  |  0  |  0  |  3  |\n",
      "|  Ecuación 2 | 3  | -8 | 0  | 0  | 0  | 1  | 0  | 0  | 0  |  0  |  0  |  0  |  0  |  0  |  0  |  0  |  0  |  0  |  0  |  0  |  0  |  0  |  0  |\n",
      "|  Ecuación 3 | 0  | 0  | -8 | 1  | 0  | 0  | 1  | 0  | 0  |  0  |  0  |  0  |  0  |  0  |  0  |  0  |  0  |  0  |  0  |  0  |  0  |  0  |  0  |\n",
      "|  Ecuación 4 | 0  | 0  | 3  | -8 | 0  | 0  | 0  | 1  | 0  |  0  |  0  |  0  |  0  |  0  |  0  |  0  |  0  |  0  |  0  |  0  |  0  |  0  |  0  |\n",
      "|  Ecuación 5 | 3  | 0  | 0  | 0  | -8 | 1  | 0  | 0  | 1  |  0  |  0  |  0  |  0  |  0  |  0  |  0  |  0  |  0  |  0  |  0  |  0  |  0  |  3  |\n",
      "|  Ecuación 6 | 0  | 3  | 0  | 0  | 3  | -8 | 0  | 0  | 0  |  1  |  0  |  0  |  0  |  0  |  0  |  0  |  0  |  0  |  0  |  0  |  0  |  0  |  0  |\n",
      "|  Ecuación 7 | 0  | 0  | 3  | 0  | 0  | 0  | -8 | 1  | 0  |  0  |  0  |  0  |  1  |  0  |  0  |  0  |  0  |  0  |  0  |  0  |  0  |  0  |  0  |\n",
      "|  Ecuación 8 | 0  | 0  | 0  | 3  | 0  | 0  | 3  | -8 | 0  |  0  |  0  |  0  |  0  |  1  |  0  |  0  |  0  |  0  |  0  |  0  |  0  |  0  |  0  |\n",
      "|  Ecuación 9 | 0  | 0  | 0  | 0  | 3  | 0  | 0  | 0  | -8 |  1  |  0  |  0  |  0  |  0  |  1  |  0  |  0  |  0  |  0  |  0  |  0  |  0  |  3  |\n",
      "| Ecuación 10 | 0  | 0  | 0  | 0  | 0  | 3  | 0  | 0  | 3  |  -8 |  1  |  0  |  0  |  0  |  0  |  1  |  0  |  0  |  0  |  0  |  0  |  0  |  0  |\n",
      "| Ecuación 11 | 0  | 0  | 0  | 0  | 0  | 0  | 0  | 0  | 0  |  3  |  -8 |  1  |  0  |  0  |  0  |  0  |  0  |  0  |  0  |  0  |  0  |  0  |  0  |\n",
      "| Ecuación 12 | 0  | 0  | 0  | 0  | 0  | 0  | 0  | 0  | 0  |  0  |  3  |  -8 |  1  |  0  |  0  |  0  |  0  |  0  |  0  |  0  |  0  |  0  |  0  |\n",
      "| Ecuación 13 | 0  | 0  | 0  | 0  | 0  | 0  | 3  | 0  | 0  |  0  |  0  |  3  |  -8 |  1  |  0  |  0  |  1  |  0  |  0  |  0  |  0  |  0  |  0  |\n",
      "| Ecuación 14 | 0  | 0  | 0  | 0  | 0  | 0  | 0  | 3  | 0  |  0  |  0  |  0  |  3  |  -8 |  0  |  0  |  0  |  1  |  0  |  0  |  0  |  0  |  0  |\n",
      "| Ecuación 15 | 0  | 0  | 0  | 0  | 0  | 0  | 0  | 0  | 3  |  0  |  0  |  0  |  0  |  0  |  -8 |  1  |  0  |  0  |  1  |  0  |  0  |  0  |  3  |\n",
      "| Ecuación 16 | 0  | 0  | 0  | 0  | 0  | 0  | 0  | 0  | 0  |  3  |  0  |  0  |  0  |  0  |  3  |  -8 |  0  |  0  |  0  |  1  |  0  |  0  |  0  |\n",
      "| Ecuación 17 | 0  | 0  | 0  | 0  | 0  | 0  | 0  | 0  | 0  |  0  |  0  |  0  |  3  |  0  |  0  |  0  |  -8 |  1  |  0  |  0  |  1  |  0  |  0  |\n",
      "| Ecuación 18 | 0  | 0  | 0  | 0  | 0  | 0  | 0  | 0  | 0  |  0  |  0  |  0  |  0  |  3  |  0  |  0  |  3  |  -8 |  0  |  0  |  0  |  1  |  0  |\n",
      "| Ecuación 19 | 0  | 0  | 0  | 0  | 0  | 0  | 0  | 0  | 0  |  0  |  0  |  0  |  0  |  0  |  3  |  0  |  0  |  0  |  -8 |  1  |  0  |  0  |  3  |\n",
      "| Ecuación 20 | 0  | 0  | 0  | 0  | 0  | 0  | 0  | 0  | 0  |  0  |  0  |  0  |  0  |  0  |  0  |  3  |  0  |  0  |  3  |  -8 |  0  |  0  |  0  |\n",
      "| Ecuación 21 | 0  | 0  | 0  | 0  | 0  | 0  | 0  | 0  | 0  |  0  |  0  |  0  |  0  |  0  |  0  |  0  |  3  |  0  |  0  |  0  |  -8 |  1  |  0  |\n",
      "| Ecuación 22 | 0  | 0  | 0  | 0  | 0  | 0  | 0  | 0  | 0  |  0  |  0  |  0  |  0  |  0  |  0  |  0  |  0  |  3  |  0  |  0  |  3  |  -8 |  0  |\n",
      "+-------------+----+----+----+----+----+----+----+----+----+-----+-----+-----+-----+-----+-----+-----+-----+-----+-----+-----+-----+-----+-----+\n"
     ]
    }
   ],
   "source": [
    "import numpy as np\n",
    "#from auxiliares import limpiar_pantalla\n",
    "from prettytable import PrettyTable \n",
    "\n",
    "# Se define la malla a tratar con las condiciones iniciales\n",
    "\n",
    "v_0 = 1 # Velocidad inicial en x\n",
    "\n",
    "mallax = np.array(\n",
    "    [[1,  0,   0,   0,   0,   0,   0,  0],\n",
    "    [1, \"w1\", \"w2\", 0, 0, \"w3\", \"w4\", 0],\n",
    "    [1, \"w5\", \"w6\", 0, 0, \"w7\", \"w8\", 0],\n",
    "    [1, \"w9\", \"w10\", \"w11\", \"w12\", \"w13\", \"w14\", 0],\n",
    "    [1, \"w15\", \"w16\", 0, 0, \"w17\", \"w18\", 0],\n",
    "    [1, \"w19\", \"w20\", 0, 0, \"w21\", \"w22\", 0],\n",
    "    [1,  0,   0,   0,   0,   0,   0,  0]])\n",
    "\n",
    "mallay = np.array(\n",
    "    [[0,  0,   0,   0,   0,   0,   0,  0],\n",
    "    [0, \"w1\", \"w2\", 0, 0, \"w3\", \"w4\", 0],\n",
    "    [0, \"w5\", \"w6\", 0, 0, \"w7\", \"w8\", 0],\n",
    "    [0, \"w9\", \"w10\", \"w11\", \"w12\", \"w13\", \"w14\", 0],\n",
    "    [0, \"w15\", \"w16\", 0, 0, \"w17\", \"w18\", 0],\n",
    "    [0, \"w19\", \"w20\", 0, 0, \"w21\", \"w22\", 0],\n",
    "    [0,  0,   0,   0,   0,   0,   0,  0]])\n",
    "\n",
    "\n",
    "r_matrix = np.zeros((22, 23), dtype=int) # Almacenar los resultados finales de la discretización\n",
    "\n",
    "# Funtion that reshape results in a finish matrix the last colum are the numeric values\n",
    "\n",
    "def fixMatrix(values, count):\n",
    "    global r_matrix\n",
    "    acum = 0\n",
    "    for value in values:\n",
    "        if value[0] == 'w':\n",
    "            match np.where(values == value)[0][0]:\n",
    "                case 0:\n",
    "                    r_matrix[count][int(value[1:])-1] = 1\n",
    "                case 1:\n",
    "                    r_matrix[count][int(value[1:])-1] = -8\n",
    "                case 2:\n",
    "                    r_matrix[count][int(value[1:])-1] = 3\n",
    "                case 3:\n",
    "                    r_matrix[count][int(value[1:])-1] = 3\n",
    "                case 4:\n",
    "                    r_matrix[count][int(value[1:])-1] = 1\n",
    "        else:\n",
    "            match np.where(values == value)[0][0]:\n",
    "                case 0:\n",
    "                    acum += int(value)*1\n",
    "                case 1:\n",
    "                    acum += int(value)*-8\n",
    "                case 2:\n",
    "                    acum += int(value)*3\n",
    "                case 3:\n",
    "                    acum += int(value)*3\n",
    "                case 4:\n",
    "                    acum += int(value)*1\n",
    "    r_matrix[count][-1] = acum\n",
    "\n",
    "\n",
    "# Funtion that find the positions needed in navier-stokes using Finite differences\n",
    "def discretization(malla):\n",
    "    count = 0\n",
    "    for row in range(7):\n",
    "        for colum in range(8):\n",
    "            if malla[row][colum][0] == 'w':\n",
    "                temp = np.array([malla[row][colum+1], malla[row][colum],\n",
    "                                malla[row][colum-1], malla[row-1][colum], malla[row+1][colum]])\n",
    "                fixMatrix(temp, count)\n",
    "                count += 1\n",
    "                \n",
    "\n",
    "if __name__ == \"__main__\":\n",
    "    discretization(mallax)\n",
    "\n",
    "    column_names = [f\"W{i}\" for i in range(1, 24)]\n",
    "    column_names[-1] = \"T.I\"\n",
    "    \n",
    "    # Create a table to format de r_matrix table\n",
    "    table = PrettyTable()\n",
    "    table.field_names = [\"\"] + column_names \n",
    "    \n",
    "    for i, row in enumerate(r_matrix, start=1):\n",
    "        equation_label = f\"Ecuación {i}\"\n",
    "        row_as_strings = [str(value) for value in row]\n",
    "        table.add_row([equation_label] + row_as_strings)\n",
    "        \n",
    "\n",
    "    print(table)\n",
    "    \n"
   ]
  },
  {
   "cell_type": "markdown",
   "id": "0d2ce82b-3b8c-4f67-b526-c39b2071d1e9",
   "metadata": {},
   "source": [
    "# Second Part Of The Solution\n",
    "\n",
    "\n",
    "To solve the problem of finding the solution for the parameter variables, use Successive Over-Relaxation (SOR) to aproch the solution faster.\n",
    "\n",
    "- First check if the matrix is strictly diagonally dominant"
   ]
  },
  {
   "cell_type": "code",
   "execution_count": 4,
   "id": "8f39f6c8-c9ec-4ded-8619-f856467321b2",
   "metadata": {},
   "outputs": [
    {
     "name": "stdout",
     "output_type": "stream",
     "text": [
      "matrix is diagonally dominant\n"
     ]
    }
   ],
   "source": [
    "'''\n",
    "Funtion that checks if a matrix is diagonally dominant\n",
    "X = Matrix\n",
    "'''\n",
    "def dd(X):\n",
    "    M = np.delete(X,-1,1)\n",
    "    D = np.diag(np.abs(M)) # Find diagonal coefficients\n",
    "    S = np.sum(np.abs(M), axis=1) - D # Find row sum without diagonal\n",
    "    if np.all(D >= S):\n",
    "        print( 'matrix is diagonally dominant')\n",
    "    else:\n",
    "        print ('NOT diagonally dominant')\n",
    "\n",
    "dd(r_matrix)"
   ]
  },
  {
   "cell_type": "code",
   "execution_count": 5,
   "id": "44324a87-87d6-4ce0-b0a0-fc4193936a2d",
   "metadata": {},
   "outputs": [
    {
     "name": "stdout",
     "output_type": "stream",
     "text": [
      "The matrix is invertible\n"
     ]
    }
   ],
   "source": [
    "'''\n",
    "Calculate the determinant of the matrix\n",
    "'''\n",
    "r_matrix_ni = np.delete(r_matrix,-1,1)\n",
    "\n",
    "determinant = np.linalg.det(r_matrix_ni)\n",
    "if determinant !=0:\n",
    "    print(\"The matrix is invertible\")\n",
    "else:\n",
    "    print(\"The matrix is not invertible\")\n"
   ]
  },
  {
   "cell_type": "markdown",
   "id": "4c68a715-ce59-4ce8-8b2b-99745f20d65c",
   "metadata": {},
   "source": [
    "Now that the conditions are meet and we know the method will converge in a solution we use SOR\n"
   ]
  },
  {
   "cell_type": "code",
   "execution_count": 6,
   "id": "68e89924-eacd-4a89-8285-fedbf81bf0f8",
   "metadata": {},
   "outputs": [],
   "source": [
    "'''\n",
    "Funtion that use jacobi method in a especific row\n",
    "R = Row to apply jacobi\n",
    "S = array of initial solutions for the row\n",
    "nn = interation value, in other words for which variable we want to apply jacobi.\n",
    "'''\n",
    "def jacobi(R,S,nn):\n",
    "    acum =0\n",
    "    c = -R[-1]/R[nn]\n",
    "   # print(f\"{-R[-1]}/{R[nn]} = {c}\")\n",
    "    acum += c\n",
    "    for i in range(len(R)-1):\n",
    "        #print(f\"{-R[i]} / {R[nn]}*{S[i]} = {(-R[i]/ R[nn]) * S[i]}\")\n",
    "        acum+= ( (-R[i]/ R[nn]) * S[i] ) if i != nn else 0\n",
    "    return acum"
   ]
  },
  {
   "cell_type": "code",
   "execution_count": 7,
   "id": "25f7f7be-0472-4612-a781-84bb9aa5c6bc",
   "metadata": {},
   "outputs": [
    {
     "data": {
      "text/plain": [
       "0.0"
      ]
     },
     "execution_count": 7,
     "metadata": {},
     "output_type": "execute_result"
    }
   ],
   "source": [
    "jacobi(r_matrix[-1],np.zeros(22),21)"
   ]
  },
  {
   "cell_type": "code",
   "execution_count": 56,
   "id": "f32cda10-f915-4b3b-a758-1b883f6c1c6f",
   "metadata": {},
   "outputs": [],
   "source": [
    "'''\n",
    "Funtion that checks if the given solutions satisfy the tolerance\n",
    "S = Preview solution\n",
    "NS = New Solution\n",
    "tol = tolerance\n",
    "'''\n",
    "def check_tolerance(S, NS, tol):\n",
    "    # Infinity Norm\n",
    "    error = np.linalg.norm(NS - S, np.inf) / np.linalg.norm(NS, np.inf)\n",
    "    print(\"Error: \", error)\n",
    "    if error > tol:\n",
    "        return True\n",
    "    else:\n",
    "        return False\n",
    "    "
   ]
  },
  {
   "cell_type": "code",
   "execution_count": 57,
   "id": "041a522a-8082-4d1f-8f5f-3225ba199a9b",
   "metadata": {},
   "outputs": [],
   "source": [
    "'''\n",
    "Funtion that use Successive Over-Relaxation in an especific matrix.\n",
    "M = Matrix of coeficients with idependent vector  \n",
    "omega = stride for faster convergence.\n",
    "tol = tolerance\n",
    "'''\n",
    "\n",
    "def SOR(M,omega,tol):\n",
    "    l = len(M)\n",
    "    S= np.zeros(l)\n",
    "    OS = np.copy(S)\n",
    "    acum = 0\n",
    "    for i in range(l):\n",
    "        c = -M[i][-1]/M[i][i]\n",
    "        S[i] = c    \n",
    "    while check_tolerance(OS,S,tol):\n",
    "        acum += 1\n",
    "        OS = np.copy(S)\n",
    "        for i in range(l):\n",
    "            S[i] = (1 - omega) * S[i] + omega * jacobi(M[i],S,i)\n",
    "    print(f\"Number of iterations: {acum}\")\n",
    "    return S"
   ]
  },
  {
   "cell_type": "code",
   "execution_count": 60,
   "id": "1cbc1afb-7899-40e4-98ae-fe4e6640680b",
   "metadata": {
    "scrolled": true
   },
   "outputs": [
    {
     "name": "stdout",
     "output_type": "stream",
     "text": [
      "Error:  1.0\n",
      "Error:  0.7604665053128321\n",
      "Error:  0.12072251780308257\n",
      "Error:  0.023012446073350724\n",
      "Error:  0.008076070609391089\n",
      "Error:  0.0018818317020968577\n",
      "Error:  0.0003946129227636158\n",
      "Error:  7.308228557459871e-05\n",
      "Error:  2.1896547785269112e-05\n",
      "Error:  2.4586200677768674e-06\n",
      "Error:  8.580235918316235e-07\n",
      "Error:  7.146530337140358e-08\n",
      "Error:  1.3894076406292847e-08\n",
      "Error:  3.4976909479213775e-09\n",
      "Error:  7.232792096539166e-10\n",
      "Error:  1.3076269123526584e-10\n",
      "Error:  3.987988994741796e-11\n",
      "Error:  6.7364300735418444e-12\n",
      "Error:  1.674913459386971e-12\n",
      "Error:  2.1167490167598444e-13\n",
      "Number of iterations: 19\n",
      "---------------\n",
      "[0.49452272 0.2392135  0.000871   0.00094925 0.71696828 0.43013981\n",
      " 0.00601874 0.00498103 0.82203824 0.57257318 0.22593955 0.08979682\n",
      " 0.04055589 0.01894423 0.85282791 0.59811175 0.01805622 0.01494308\n",
      " 0.7583968  0.50869071 0.00783899 0.00854327]\n"
     ]
    }
   ],
   "source": [
    "lineal_solution = SOR(r_matrix,1.2,0.000000000001)\n",
    "print(\"---------------\")\n",
    "print(lineal_solution)"
   ]
  },
  {
   "cell_type": "markdown",
   "id": "7ccc980c-5452-4673-bbaa-66f21074ca4a",
   "metadata": {},
   "source": [
    "## Conjugate Gradient Method\n",
    "\n",
    "Applying this method allow to find the gradient, with shows the direction for which the funtions increase or decrease.\n",
    "\n",
    "To use this method the matrix must be symmetric and positive"
   ]
  },
  {
   "cell_type": "code",
   "execution_count": 11,
   "id": "7dda8c4f-222f-442a-99f7-fe24029321cd",
   "metadata": {},
   "outputs": [],
   "source": [
    "\n",
    "\n",
    "def symmetric(M):\n",
    "    Mt = np.transpose(M) #Transpose matrix\n",
    "    #print(np.equal(M,Mt)) #shows which elements of are not equal to the intial matrix (M)\n",
    "    return np.array_equal(M,Mt)"
   ]
  },
  {
   "cell_type": "code",
   "execution_count": 12,
   "id": "c8888f61-2859-46ef-89fc-1a4d6494d644",
   "metadata": {},
   "outputs": [
    {
     "name": "stdout",
     "output_type": "stream",
     "text": [
      "It's the matrix symmetric? False\n"
     ]
    }
   ],
   "source": [
    "print(f\"It's the matrix symmetric? {symmetric(r_matrix_ni)}\")"
   ]
  },
  {
   "cell_type": "code",
   "execution_count": 13,
   "id": "b26bb5d7-ccdc-40a4-a7d8-a723bd5886dd",
   "metadata": {},
   "outputs": [],
   "source": [
    "def possitive(M):\n",
    "    return np.all(np.linalg.eigvals(M)>0)"
   ]
  },
  {
   "cell_type": "code",
   "execution_count": 14,
   "id": "892f6216-4c52-484d-b268-75d3a38b0b84",
   "metadata": {},
   "outputs": [
    {
     "name": "stdout",
     "output_type": "stream",
     "text": [
      "It's the matrix possitive? False\n"
     ]
    }
   ],
   "source": [
    "print(f\"It's the matrix possitive? {possitive(r_matrix_ni)}\")"
   ]
  },
  {
   "cell_type": "markdown",
   "id": "c58a0fc7-b1a5-4396-b158-82b0f6c191fb",
   "metadata": {},
   "source": [
    "Since the conditions are not met, we can't use Conjugate Gradient\n",
    "\n",
    "----"
   ]
  },
  {
   "cell_type": "code",
   "execution_count": null,
   "id": "21067415-bb53-4b61-a07c-e382d0d43b59",
   "metadata": {},
   "outputs": [],
   "source": []
  },
  {
   "cell_type": "markdown",
   "id": "33422db7",
   "metadata": {},
   "source": [
    "# Newton Raphson Metohd for non-linear systems"
   ]
  },
  {
   "cell_type": "markdown",
   "id": "fba276b6",
   "metadata": {},
   "source": [
    "Generating the system of nonlinear equations"
   ]
  },
  {
   "cell_type": "code",
   "execution_count": 15,
   "id": "1d94b800",
   "metadata": {},
   "outputs": [],
   "source": [
    "\n",
    "# We want to represent nonlinear equations, which using Navier-Stokes would be of the form: \n",
    "# 2Vx(i+1,j) + 2Vx(i-1,j) + 2Vx(i,j+1 + 2Vx(i,j-1 - 8Vx(i,j - Vx(i,j)Vx(i+1,j + Vx(i,j)Vx(i-1,j - Vx(i,j)Vx(i,j+1 + Vx(i,j)Vx(i,j-1) = 0\n",
    "\n",
    "from sympy import Symbol,symbols,diff\n",
    "import numpy as np\n",
    "\n",
    "mallax = np.array(\n",
    "    [[1,  0,   0,   0,   0,   0,   0,  0],\n",
    "    [1, \"w1\", \"w2\", 0, 0, \"w3\", \"w4\", 0],\n",
    "    [1, \"w5\", \"w6\", 0, 0, \"w7\", \"w8\", 0],\n",
    "    [1, \"w9\", \"w10\", \"w11\", \"w12\", \"w13\", \"w14\", 0],\n",
    "    [1, \"w15\", \"w16\", 0, 0, \"w17\", \"w18\", 0],\n",
    "    [1, \"w19\", \"w20\", 0, 0, \"w21\", \"w22\", 0],\n",
    "    [1,  0,   0,   0,   0,   0,   0,  0]])\n",
    "\n",
    "mallay = np.array(\n",
    "    [[0,  0,   0,   0,   0,   0,   0,  0],\n",
    "    [0, \"w1\", \"w2\", 0, 0, \"w3\", \"w4\", 0],\n",
    "    [0, \"w5\", \"w6\", 0, 0, \"w7\", \"w8\", 0],\n",
    "    [0, \"w9\", \"w10\", \"w11\", \"w12\", \"w13\", \"w14\", 0],\n",
    "    [0, \"w15\", \"w16\", 0, 0, \"w17\", \"w18\", 0],\n",
    "    [0, \"w19\", \"w20\", 0, 0, \"w21\", \"w22\", 0],\n",
    "    [0,  0,   0,   0,   0,   0,   0,  0]])\n",
    "\n",
    "# These lists will be used to store the nonlinear equations and corresponding symbolic variables.\n",
    "equations_x = []\n",
    "vars_x = []\n",
    "\n",
    "equations_y = []\n",
    "vars_y = []\n",
    "\n",
    "# This function takes a position (i, j) in the matrix grid and returns a symbol if the entry starts with \"w\" (indicating a variable) or an integer if not.\n",
    "def determinate(i, j, grid):\n",
    "    if grid[i, j][0] == \"w\":\n",
    "        # variable\n",
    "        return Symbol(grid[i, j])\n",
    "    else:\n",
    "        # number\n",
    "        return int(grid[i, j])\n",
    "\n",
    "# This function generates nonlinear equations based on the elements of the grid matrix. It iterates through the rows and columns of the matrix, and for each non-zero element, constructs a nonlinear equation and adds both the equation and the symbolic variable to the corresponding lists.\n",
    "def generate_nonlinear_equations(grid,equations,vars):\n",
    "    for i in range(1, 6):\n",
    "        for j in range(1, 7):\n",
    "            # Construct the nonlinear equation\n",
    "            value = determinate(i, j, grid)\n",
    "            if value != 0:\n",
    "                equation = (2 * determinate(i + 1, j, grid) + 2 * determinate(i - 1, j, grid) + 2 * determinate(i, j + 1, grid) + 2 * determinate(i, j - 1, grid) \n",
    "                            - 8 * determinate(i, j, grid) - determinate(i, j, grid) * determinate(i + 1, j, grid) + determinate(i, j, grid) * determinate(i - 1, j, grid) \n",
    "                            - determinate(i, j, grid) * determinate(i, j + 1, grid) + determinate(i, j, grid) * determinate(i, j - 1, grid)\n",
    "                           )\n",
    "                equations.append(equation)\n",
    "                vars.append(value)\n",
    "\n",
    "# Call the function with the grid matrix\n",
    "generate_nonlinear_equations(mallax,equations_x,vars_x)\n",
    "generate_nonlinear_equations(mallay,equations_y,vars_y)\n",
    "\n"
   ]
  },
  {
   "cell_type": "code",
   "execution_count": 16,
   "id": "64b7c38e",
   "metadata": {},
   "outputs": [
    {
     "name": "stdout",
     "output_type": "stream",
     "text": [
      "Nonlinear Equations for Vx:\n",
      "+--------------------------------------------------------------------------------+\n",
      "|                                    Equation                                    |\n",
      "+--------------------------------------------------------------------------------+\n",
      "|                   (-w1*w2 - w1*w5 - 7*w1 + 2*w2 + 2*w5 + 2,)                   |\n",
      "|                     (w1*w2 + 2*w1 - w2*w6 - 8*w2 + 2*w6,)                      |\n",
      "|                     (-w3*w4 - w3*w7 - 8*w3 + 2*w4 + 2*w7,)                     |\n",
      "|                     (w3*w4 + 2*w3 - w4*w8 - 8*w4 + 2*w8,)                      |\n",
      "|            (w1*w5 + 2*w1 - w5*w6 - w5*w9 - 7*w5 + 2*w6 + 2*w9 + 2,)            |\n",
      "|            (-w10*w6 + 2*w10 + w2*w6 + 2*w2 + w5*w6 + 2*w5 - 8*w6,)             |\n",
      "|            (-w13*w7 + 2*w13 + w3*w7 + 2*w3 - w7*w8 - 8*w7 + 2*w8,)             |\n",
      "|            (-w14*w8 + 2*w14 + w4*w8 + 2*w4 + w7*w8 + 2*w7 - 8*w8,)             |\n",
      "|         (-w10*w9 + 2*w10 - w15*w9 + 2*w15 + w5*w9 + 2*w5 - 7*w9 + 2,)          |\n",
      "| (-w10*w11 - w10*w16 + w10*w6 + w10*w9 - 8*w10 + 2*w11 + 2*w16 + 2*w6 + 2*w9,)  |\n",
      "|                  (w10*w11 + 2*w10 - w11*w12 - 8*w11 + 2*w12,)                  |\n",
      "|                  (w11*w12 + 2*w11 - w12*w13 - 8*w12 + 2*w13,)                  |\n",
      "| (w12*w13 + 2*w12 - w13*w14 - w13*w17 + w13*w7 - 8*w13 + 2*w14 + 2*w17 + 2*w7,) |\n",
      "|          (w13*w14 + 2*w13 - w14*w18 + w14*w8 - 8*w14 + 2*w18 + 2*w8,)          |\n",
      "|       (-w15*w16 - w15*w19 + w15*w9 - 7*w15 + 2*w16 + 2*w19 + 2*w9 + 2,)        |\n",
      "|         (w10*w16 + 2*w10 + w15*w16 + 2*w15 - w16*w20 - 8*w16 + 2*w20,)         |\n",
      "|         (w13*w17 + 2*w13 - w17*w18 - w17*w21 - 8*w17 + 2*w18 + 2*w21,)         |\n",
      "|         (w14*w18 + 2*w14 + w17*w18 + 2*w17 - w18*w22 - 8*w18 + 2*w22,)         |\n",
      "|                (w15*w19 + 2*w15 - w19*w20 - 7*w19 + 2*w20 + 2,)                |\n",
      "|                  (w16*w20 + 2*w16 + w19*w20 + 2*w19 - 8*w20,)                  |\n",
      "|                  (w17*w21 + 2*w17 - w21*w22 - 8*w21 + 2*w22,)                  |\n",
      "|                  (w18*w22 + 2*w18 + w21*w22 + 2*w21 - 8*w22,)                  |\n",
      "+--------------------------------------------------------------------------------+\n"
     ]
    }
   ],
   "source": [
    "# Print the nonlinear equations and corresponding variables\n",
    "table_x = PrettyTable()\n",
    "table_x.field_names = ['Equation']\n",
    "for eq in zip(equations_x):\n",
    "    table_x.add_row([str(eq)])\n",
    "print(\"Nonlinear Equations for Vx:\")\n",
    "print(table_x)"
   ]
  },
  {
   "cell_type": "code",
   "execution_count": 17,
   "id": "a9665e45",
   "metadata": {},
   "outputs": [
    {
     "name": "stdout",
     "output_type": "stream",
     "text": [
      "[w1, w2, w3, w4, w5, w6, w7, w8, w9, w10, w11, w12, w13, w14, w15, w16, w17, w18, w19, w20, w21, w22]\n"
     ]
    }
   ],
   "source": [
    "print(vars_x)"
   ]
  },
  {
   "cell_type": "code",
   "execution_count": 18,
   "id": "1f0d8c22",
   "metadata": {},
   "outputs": [
    {
     "name": "stdout",
     "output_type": "stream",
     "text": [
      "Nonlinear Equations for Vy:\n",
      "+--------------------------------------------------------------------------------+\n",
      "|                                    Equation                                    |\n",
      "+--------------------------------------------------------------------------------+\n",
      "|                     (-w1*w2 - w1*w5 - 8*w1 + 2*w2 + 2*w5,)                     |\n",
      "|                     (w1*w2 + 2*w1 - w2*w6 - 8*w2 + 2*w6,)                      |\n",
      "|                     (-w3*w4 - w3*w7 - 8*w3 + 2*w4 + 2*w7,)                     |\n",
      "|                     (w3*w4 + 2*w3 - w4*w8 - 8*w4 + 2*w8,)                      |\n",
      "|              (w1*w5 + 2*w1 - w5*w6 - w5*w9 - 8*w5 + 2*w6 + 2*w9,)              |\n",
      "|            (-w10*w6 + 2*w10 + w2*w6 + 2*w2 + w5*w6 + 2*w5 - 8*w6,)             |\n",
      "|            (-w13*w7 + 2*w13 + w3*w7 + 2*w3 - w7*w8 - 8*w7 + 2*w8,)             |\n",
      "|            (-w14*w8 + 2*w14 + w4*w8 + 2*w4 + w7*w8 + 2*w7 - 8*w8,)             |\n",
      "|           (-w10*w9 + 2*w10 - w15*w9 + 2*w15 + w5*w9 + 2*w5 - 8*w9,)            |\n",
      "| (-w10*w11 - w10*w16 + w10*w6 + w10*w9 - 8*w10 + 2*w11 + 2*w16 + 2*w6 + 2*w9,)  |\n",
      "|                  (w10*w11 + 2*w10 - w11*w12 - 8*w11 + 2*w12,)                  |\n",
      "|                  (w11*w12 + 2*w11 - w12*w13 - 8*w12 + 2*w13,)                  |\n",
      "| (w12*w13 + 2*w12 - w13*w14 - w13*w17 + w13*w7 - 8*w13 + 2*w14 + 2*w17 + 2*w7,) |\n",
      "|          (w13*w14 + 2*w13 - w14*w18 + w14*w8 - 8*w14 + 2*w18 + 2*w8,)          |\n",
      "|         (-w15*w16 - w15*w19 + w15*w9 - 8*w15 + 2*w16 + 2*w19 + 2*w9,)          |\n",
      "|         (w10*w16 + 2*w10 + w15*w16 + 2*w15 - w16*w20 - 8*w16 + 2*w20,)         |\n",
      "|         (w13*w17 + 2*w13 - w17*w18 - w17*w21 - 8*w17 + 2*w18 + 2*w21,)         |\n",
      "|         (w14*w18 + 2*w14 + w17*w18 + 2*w17 - w18*w22 - 8*w18 + 2*w22,)         |\n",
      "|                  (w15*w19 + 2*w15 - w19*w20 - 8*w19 + 2*w20,)                  |\n",
      "|                  (w16*w20 + 2*w16 + w19*w20 + 2*w19 - 8*w20,)                  |\n",
      "|                  (w17*w21 + 2*w17 - w21*w22 - 8*w21 + 2*w22,)                  |\n",
      "|                  (w18*w22 + 2*w18 + w21*w22 + 2*w21 - 8*w22,)                  |\n",
      "+--------------------------------------------------------------------------------+\n"
     ]
    }
   ],
   "source": [
    "table_y = PrettyTable()\n",
    "table_y.field_names = ['Equation']\n",
    "for eq in zip(equations_y):\n",
    "    table_y.add_row([str(eq)])\n",
    "print(\"Nonlinear Equations for Vy:\")\n",
    "print(table_y)"
   ]
  },
  {
   "cell_type": "code",
   "execution_count": 19,
   "id": "8cfe2f9e",
   "metadata": {},
   "outputs": [
    {
     "name": "stdout",
     "output_type": "stream",
     "text": [
      "[w1, w2, w3, w4, w5, w6, w7, w8, w9, w10, w11, w12, w13, w14, w15, w16, w17, w18, w19, w20, w21, w22]\n"
     ]
    }
   ],
   "source": [
    "print(vars_y)"
   ]
  },
  {
   "cell_type": "markdown",
   "id": "7011f557",
   "metadata": {},
   "source": [
    "Calculate the jacobian matrix for the system of nonlinear equations"
   ]
  },
  {
   "cell_type": "code",
   "execution_count": 20,
   "id": "b6461605",
   "metadata": {},
   "outputs": [],
   "source": [
    "# Define a function to calculate the Jacobian matrix for a system of nonlinear equations.\n",
    "\n",
    "def jacobian(equations, variables):\n",
    "    # Get the number of equations and variables\n",
    "    rows = len(equations)\n",
    "    cols = len(variables)\n",
    "\n",
    "    # Initialize the Jacobian matrix with zeros\n",
    "    J = [[0] * cols for _ in range(rows)]\n",
    "\n",
    "    # Iterate through each equation and variable to calculate partial derivatives\n",
    "    for i, eq in enumerate(equations):\n",
    "        for j, var in enumerate(variables):\n",
    "            # Calculate the partial derivative of the equation with respect to the variable\n",
    "            J[i][j] = diff(eq, var)\n",
    "\n",
    "    # Return the calculated Jacobian matrix\n",
    "    return J"
   ]
  },
  {
   "cell_type": "code",
   "execution_count": 21,
   "id": "3efad07f",
   "metadata": {},
   "outputs": [
    {
     "name": "stdout",
     "output_type": "stream",
     "text": [
      "Jacobian:\n",
      "[[2*x1, 2 - 2*x2], [2, 2*x2]]\n"
     ]
    }
   ],
   "source": [
    "# x_(k+1) = x_k - (J(x_k))^-1 * f(x_k)\n",
    "#  J(x_k) = (dF(x_k)/dx_k))\n",
    "\n",
    "# (J(x_k))*x_(k+1) = (J(x_k))*x_k - f(x_k) => Without Jacobian Inverse\n",
    "\n",
    "# Define symbolic variables\n",
    "x1, x2 = symbols('x1 x2')\n",
    "\n",
    "# Define the equations\n",
    "f1 = x1**2 - x2**2 + 2*x2\n",
    "f2 = 2*x1 + x2**2 - 6\n",
    "\n",
    "# Define the Jacobian\n",
    "J = jacobian([f1, f2], [x1, x2])\n",
    "\n",
    "# Display the Jacobian\n",
    "print(\"Jacobian:\")\n",
    "print(J)"
   ]
  },
  {
   "cell_type": "markdown",
   "id": "e34b60ca",
   "metadata": {},
   "source": [
    "Evaluate symbolic functions"
   ]
  },
  {
   "cell_type": "code",
   "execution_count": 22,
   "id": "a63390af",
   "metadata": {},
   "outputs": [],
   "source": [
    "# Evaluate a symbolic function for a given set of variables and values.\n",
    "\n",
    "def evalFunction(function, vars, values):\n",
    "    # Initialize the result with the given function\n",
    "    result = function\n",
    "\n",
    "    # Number of variables\n",
    "    numVars = len(vars)\n",
    "\n",
    "    # Iterate through each variable and substitute its value in the function\n",
    "    for i in range(numVars):\n",
    "        result = result.subs(vars[i], values[i])\n",
    "\n",
    "    # Convert the result to a float and return\n",
    "    return float(str(result))\n"
   ]
  },
  {
   "cell_type": "code",
   "execution_count": 23,
   "id": "3b0ff317",
   "metadata": {},
   "outputs": [
    {
     "name": "stdout",
     "output_type": "stream",
     "text": [
      "2.0\n"
     ]
    }
   ],
   "source": [
    "result = evalFunction(equations_x[0], vars_x, [1, 2, 3, 4, 5, 6, 7, 8, 9, 10, 11, 12, 13, 14, 15, 16, 17, 18, 19, 20, 21, 22])\n",
    "print(result)"
   ]
  },
  {
   "cell_type": "code",
   "execution_count": 24,
   "id": "8b12fac5",
   "metadata": {},
   "outputs": [
    {
     "name": "stdout",
     "output_type": "stream",
     "text": [
      "-1.0\n"
     ]
    }
   ],
   "source": [
    "result = evalFunction(equations_y[0], vars_y, [1, 2, 3, 4, 5, 6, 7, 8, 9, 10, 11, 12, 13, 14, 15, 16, 17, 18, 19, 20, 21, 22])\n",
    "print(result)"
   ]
  },
  {
   "cell_type": "code",
   "execution_count": 25,
   "id": "5b3e4ae2",
   "metadata": {},
   "outputs": [],
   "source": [
    "# Evaluate a list of symbolic functions for a given set of variables and values.\n",
    "\n",
    "def evalFunctionsAndValues(functions, vars, values):\n",
    "    # List to store the results of evaluated functions\n",
    "    results = []\n",
    "\n",
    "    # Number of variables\n",
    "    numVars = len(vars)\n",
    "\n",
    "    # Iterate through each function in the list\n",
    "    for func in functions:\n",
    "        # Initialize the result with the current function\n",
    "        result = func\n",
    "        \n",
    "        # Iterate through each variable and substitute its value in the function\n",
    "        for i in range(numVars):\n",
    "            result = result.subs(vars[i], values[i])\n",
    "        \n",
    "        # Append the evaluated result to the list\n",
    "        results.append(float(str(result)))\n",
    "\n",
    "    # Return the list of evaluated function results\n",
    "    return results\n"
   ]
  },
  {
   "cell_type": "code",
   "execution_count": 26,
   "id": "925783dc",
   "metadata": {},
   "outputs": [
    {
     "name": "stdout",
     "output_type": "stream",
     "text": [
      "[2.0, -12.0, -35.0, -30.0, -71.0, -32.0, -134.0, -38.0, -181.0, -116.0, -66.0, -72.0, -160.0, 8.0, -405.0, 42.0, -474.0, 124.0, -156.0, 610.0, -195.0, 760.0]\n"
     ]
    }
   ],
   "source": [
    "functions_evaluated = evalFunctionsAndValues(equations_x, vars_x, [1, 2, 3, 4, 5, 6, 7, 8, 9, 10, 11, 12, 13, 14, 15, 16, 17, 18, 19, 20, 21, 22])\n",
    "print(functions_evaluated)\n"
   ]
  },
  {
   "cell_type": "markdown",
   "id": "c8120cbc",
   "metadata": {},
   "source": [
    "Evaluate the jacobian matrix"
   ]
  },
  {
   "cell_type": "code",
   "execution_count": 27,
   "id": "624a5f56",
   "metadata": {},
   "outputs": [],
   "source": [
    "# Evaluate the Jacobian matrix of a system of equations at a given point.\n",
    "\n",
    "def evaluateJacobian(jacobian_matrix, symbols, numerical_values):\n",
    "    # List to store the evaluated Jacobian matrix\n",
    "    evaluated_jacobian = []\n",
    "    # Iterate through each row in the Jacobian matrix\n",
    "    for row in jacobian_matrix:\n",
    "        # Evaluate each partial derivative in the row using given values\n",
    "        row_evaluated = evalFunctionsAndValues(row, symbols, numerical_values)\n",
    "        \n",
    "        # Append the row of evaluated partial derivatives to the result\n",
    "        evaluated_jacobian.append(row_evaluated)\n",
    "\n",
    "    # Return the complete evaluated Jacobian matrix\n",
    "    return evaluated_jacobian\n"
   ]
  },
  {
   "cell_type": "markdown",
   "id": "7437bbc7",
   "metadata": {},
   "source": [
    "Determine whether the Newton-Raphson method should stop at a given iteration, based on the evaluation of the equations of the system at a candidate solutionº."
   ]
  },
  {
   "cell_type": "code",
   "execution_count": 28,
   "id": "268ef3a2",
   "metadata": {},
   "outputs": [],
   "source": [
    "def shouldStop(equations, variables, current_solution, tolerance):\n",
    "    # Evaluate the system of equations at the current solution\n",
    "    evaluations = np.array(evalFunctionsAndValues(equations, variables, current_solution))\n",
    "\n",
    "    # Calculate the norm (magnitude) of the vector of equation evaluations\n",
    "    norm = np.linalg.norm(evaluations)\n",
    "\n",
    "    # Check if the norm is below the specified tolerance\n",
    "    if norm < tolerance:\n",
    "        # If the norm is below tolerance, consider the solution accurate enough\n",
    "        return True\n",
    "    else:\n",
    "        # If the norm is not below tolerance, more iterations are needed\n",
    "        return False\n"
   ]
  },
  {
   "cell_type": "code",
   "execution_count": 29,
   "id": "a02282ef",
   "metadata": {},
   "outputs": [
    {
     "name": "stdout",
     "output_type": "stream",
     "text": [
      "False\n"
     ]
    }
   ],
   "source": [
    "# Define variables and equations\n",
    "x, y = symbols('x y')\n",
    "equations = [x**2 + y**2 - 25, x + y - 7]\n",
    "\n",
    "# Initial guess for the solution\n",
    "initial_solution = [1, 6]\n",
    "\n",
    "# Tolerance for stopping criteria\n",
    "tolerance = 1e-6\n",
    "\n",
    "# Check if the solution is accurate enough\n",
    "result = shouldStop(equations, [x, y], initial_solution, tolerance)\n",
    "\n",
    "print(result)\n"
   ]
  },
  {
   "cell_type": "markdown",
   "id": "1e2e0733",
   "metadata": {},
   "source": [
    "Newton-Raphson method"
   ]
  },
  {
   "cell_type": "code",
   "execution_count": 30,
   "id": "8f06e005",
   "metadata": {},
   "outputs": [],
   "source": [
    "tolerance = 1e-3\n",
    "initAproximationVX = [0]*len(vars_x)\n",
    "initAproximationVY = [0]*len(vars_y)"
   ]
  },
  {
   "cell_type": "code",
   "execution_count": 31,
   "id": "d3291b45",
   "metadata": {},
   "outputs": [],
   "source": [
    "def newtonRaphson(system_equations, variables, initial_approximation, tolerance):\n",
    "    # Initialize the solution with the initial approximation\n",
    "    current_solution = initial_approximation\n",
    "    # Calculate the Jacobian matrix of the system\n",
    "    jacobian_matrix = jacobian(system_equations, variables)\n",
    "    # Initialize the iteration counter\n",
    "    iterations = 0\n",
    "    while True:\n",
    "        # Evaluate the Jacobian matrix at the current solution\n",
    "        jacobian_evaluated = np.array(evaluateJacobian(jacobian_matrix, variables, current_solution)) \n",
    "        # Calculate the inverse of the Jacobian matrix\n",
    "        jacobian_inv = np.linalg.inv(jacobian_evaluated)\n",
    "        # Evaluate the system functions at the current solution\n",
    "        system_evaluations = np.array(evalFunctionsAndValues(system_equations, variables, current_solution))\n",
    "        # Calculate the next approximation using the Newton-Raphson method\n",
    "        # x_(k+1) = x_k - (J(x_k))^-1 * f(x_k)\n",
    "        next_solution = np.array(current_solution) - (jacobian_inv.dot(system_evaluations))\n",
    "        # Check the convergence conditions\n",
    "        if iterations >= 100 or shouldStop(system_equations, variables, next_solution, tolerance):\n",
    "            return next_solution\n",
    "        else:\n",
    "            # Update the current solution with the new approximation\n",
    "            current_solution = next_solution\n",
    "        # Increment the iteration counter\n",
    "        iterations += 1\n"
   ]
  },
  {
   "cell_type": "code",
   "execution_count": 32,
   "id": "cde0b1ba",
   "metadata": {},
   "outputs": [],
   "source": [
    "solution_vx = newtonRaphson(equations_x, vars_x, initAproximationVX,tolerance)\n",
    "\n",
    "solution_vy = newtonRaphson(equations_y, vars_y, initAproximationVY,tolerance)"
   ]
  },
  {
   "cell_type": "code",
   "execution_count": 33,
   "id": "4397a7c6",
   "metadata": {},
   "outputs": [
    {
     "name": "stdout",
     "output_type": "stream",
     "text": [
      "Solution for Vx:\n",
      "+----------+-----------------------+\n",
      "| Variable |        Solution       |\n",
      "+----------+-----------------------+\n",
      "|    w1    |   0.4800783093023615  |\n",
      "|    w2    |  0.21266834401399803  |\n",
      "|    w3    | 0.0011688907451201764 |\n",
      "|    w4    | 0.0008412881352775628 |\n",
      "|    w5    |   0.6824740013922657  |\n",
      "|    w6    |  0.35756839289724873  |\n",
      "|    w7    | 0.0038370090541964548 |\n",
      "|    w8    | 0.0021966941353545686 |\n",
      "|    w9    |   0.7729767160071275  |\n",
      "|   w10    |  0.45675441437112196  |\n",
      "|   w11    |  0.13003793768806357  |\n",
      "|   w12    |  0.03604312269242103  |\n",
      "|   w13    |  0.012007459545662548 |\n",
      "|   w14    |  0.004107852805995208 |\n",
      "|   w15    |   0.7806708220407035  |\n",
      "|   w16    |  0.43796197421814237  |\n",
      "|   w17    |   0.0038502021148202  |\n",
      "|   w18    | 0.0022026072517890662 |\n",
      "|   w19    |   0.6407493717809911  |\n",
      "|   w20    |   0.3117082382225878  |\n",
      "|   w21    | 0.0011741266439800465 |\n",
      "|   w22    | 0.0008445399472397637 |\n",
      "+----------+-----------------------+\n"
     ]
    }
   ],
   "source": [
    "\n",
    "# Create a table to display the solutions\n",
    "table = PrettyTable()\n",
    "table.field_names = ['Variable', 'Solution']\n",
    "\n",
    "# Add rows to the table with each variable and its solution\n",
    "for var, sol in zip(vars_x, solution_vx):\n",
    "    table.add_row([str(var), sol])\n",
    "\n",
    "# Print the table\n",
    "print(\"Solution for Vx:\")\n",
    "print(table)"
   ]
  },
  {
   "cell_type": "code",
   "execution_count": 34,
   "id": "0502701a",
   "metadata": {},
   "outputs": [
    {
     "name": "stdout",
     "output_type": "stream",
     "text": [
      "Solution for Vy:\n",
      "+------------+----------+\n",
      "| Variable_Y | Solution |\n",
      "+------------+----------+\n",
      "|     w1     |   0.0    |\n",
      "|     w2     |   0.0    |\n",
      "|     w3     |   0.0    |\n",
      "|     w4     |   0.0    |\n",
      "|     w5     |   0.0    |\n",
      "|     w6     |   0.0    |\n",
      "|     w7     |   0.0    |\n",
      "|     w8     |   0.0    |\n",
      "|     w9     |   0.0    |\n",
      "|    w10     |   0.0    |\n",
      "|    w11     |   0.0    |\n",
      "|    w12     |   0.0    |\n",
      "|    w13     |   0.0    |\n",
      "|    w14     |   0.0    |\n",
      "|    w15     |   0.0    |\n",
      "|    w16     |   0.0    |\n",
      "|    w17     |   0.0    |\n",
      "|    w18     |   0.0    |\n",
      "|    w19     |   0.0    |\n",
      "|    w20     |   0.0    |\n",
      "|    w21     |   0.0    |\n",
      "|    w22     |   0.0    |\n",
      "+------------+----------+\n"
     ]
    }
   ],
   "source": [
    "\n",
    "# Create a table to display the solutions\n",
    "tabley = PrettyTable()\n",
    "tabley.field_names = ['Variable_Y', 'Solution']\n",
    "\n",
    "# Add rows to the table with each variable and its solution\n",
    "for var, sol in zip(vars_y, solution_vy):\n",
    "    tabley.add_row([str(var), sol])\n",
    "\n",
    "# Print the table\n",
    "print(\"Solution for Vy:\")\n",
    "print(tabley)\n"
   ]
  }
 ],
 "metadata": {
  "kernelspec": {
   "display_name": "Python 3 (ipykernel)",
   "language": "python",
   "name": "python3"
  },
  "language_info": {
   "codemirror_mode": {
    "name": "ipython",
    "version": 3
   },
   "file_extension": ".py",
   "mimetype": "text/x-python",
   "name": "python",
   "nbconvert_exporter": "python",
   "pygments_lexer": "ipython3",
   "version": "3.10.10"
  }
 },
 "nbformat": 4,
 "nbformat_minor": 5
}
