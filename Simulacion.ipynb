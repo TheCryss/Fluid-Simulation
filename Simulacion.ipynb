{
 "cells": [
  {
   "cell_type": "markdown",
   "id": "373b08f5-1f66-49c3-80dc-3fdd21fd575f",
   "metadata": {},
   "source": [
    "# Project N°1 \n",
    "Make by:\n",
    "\n",
    "Jose Luis Hincapie Bucheli - 2125340\n",
    "\n",
    "Carlos Andrés Hernández - 2125653"
   ]
  },
  {
   "cell_type": "markdown",
   "id": "7a35865b-305f-4d14-bd48-1e058bf2c3dd",
   "metadata": {},
   "source": [
    "## Require Libraries"
   ]
  },
  {
   "cell_type": "code",
   "execution_count": 1,
   "id": "4709a20c-0ce0-4a24-9607-34e2e179da77",
   "metadata": {},
   "outputs": [
    {
     "name": "stdout",
     "output_type": "stream",
     "text": [
      "Overwriting requirements.txt\n"
     ]
    }
   ],
   "source": [
    "%%writefile requirements.txt\n",
    "numpy==1.25.2\n",
    "prettytable"
   ]
  },
  {
   "cell_type": "code",
   "execution_count": 2,
   "id": "57d18054-72d4-408a-a889-563a07b1b147",
   "metadata": {
    "scrolled": true
   },
   "outputs": [
    {
     "name": "stdout",
     "output_type": "stream",
     "text": [
      "Requirement already satisfied: numpy==1.25.2 in c:\\users\\jose9\\appdata\\local\\programs\\python\\python310\\lib\\site-packages (from -r requirements.txt (line 1)) (1.25.2)\n",
      "Requirement already satisfied: prettytable in c:\\users\\jose9\\appdata\\local\\programs\\python\\python310\\lib\\site-packages (from -r requirements.txt (line 2)) (3.9.0)\n",
      "Requirement already satisfied: wcwidth in c:\\users\\jose9\\appdata\\local\\programs\\python\\python310\\lib\\site-packages (from prettytable->-r requirements.txt (line 2)) (0.2.8)\n",
      "Note: you may need to restart the kernel to use updated packages.\n"
     ]
    },
    {
     "name": "stderr",
     "output_type": "stream",
     "text": [
      "WARNING: There was an error checking the latest version of pip.\n"
     ]
    }
   ],
   "source": [
    "pip install -r requirements.txt"
   ]
  },
  {
   "cell_type": "markdown",
   "id": "b2067d73-8c23-4a5f-8938-4215bd0ff313",
   "metadata": {},
   "source": [
    "Discretization of the initial problem."
   ]
  },
  {
   "cell_type": "code",
   "execution_count": 3,
   "id": "33f21cb2-7ba8-4331-a3c5-ec92bad580df",
   "metadata": {},
   "outputs": [
    {
     "name": "stdout",
     "output_type": "stream",
     "text": [
      "+-------------+----+----+----+----+----+----+----+----+----+-----+-----+-----+-----+-----+-----+-----+-----+-----+-----+-----+-----+-----+-----+\n",
      "|             | W1 | W2 | W3 | W4 | W5 | W6 | W7 | W8 | W9 | W10 | W11 | W12 | W13 | W14 | W15 | W16 | W17 | W18 | W19 | W20 | W21 | W22 | T.I |\n",
      "+-------------+----+----+----+----+----+----+----+----+----+-----+-----+-----+-----+-----+-----+-----+-----+-----+-----+-----+-----+-----+-----+\n",
      "|  Ecuación 1 | -8 | 1  | 0  | 0  | 1  | 0  | 0  | 0  | 0  |  0  |  0  |  0  |  0  |  0  |  0  |  0  |  0  |  0  |  0  |  0  |  0  |  0  |  3  |\n",
      "|  Ecuación 2 | 3  | -8 | 0  | 0  | 0  | 1  | 0  | 0  | 0  |  0  |  0  |  0  |  0  |  0  |  0  |  0  |  0  |  0  |  0  |  0  |  0  |  0  |  0  |\n",
      "|  Ecuación 3 | 0  | 0  | -8 | 1  | 0  | 0  | 1  | 0  | 0  |  0  |  0  |  0  |  0  |  0  |  0  |  0  |  0  |  0  |  0  |  0  |  0  |  0  |  0  |\n",
      "|  Ecuación 4 | 0  | 0  | 3  | -8 | 0  | 0  | 0  | 1  | 0  |  0  |  0  |  0  |  0  |  0  |  0  |  0  |  0  |  0  |  0  |  0  |  0  |  0  |  0  |\n",
      "|  Ecuación 5 | 3  | 0  | 0  | 0  | -8 | 1  | 0  | 0  | 1  |  0  |  0  |  0  |  0  |  0  |  0  |  0  |  0  |  0  |  0  |  0  |  0  |  0  |  3  |\n",
      "|  Ecuación 6 | 0  | 3  | 0  | 0  | 3  | -8 | 0  | 0  | 0  |  1  |  0  |  0  |  0  |  0  |  0  |  0  |  0  |  0  |  0  |  0  |  0  |  0  |  0  |\n",
      "|  Ecuación 7 | 0  | 0  | 3  | 0  | 0  | 0  | -8 | 1  | 0  |  0  |  0  |  0  |  1  |  0  |  0  |  0  |  0  |  0  |  0  |  0  |  0  |  0  |  0  |\n",
      "|  Ecuación 8 | 0  | 0  | 0  | 3  | 0  | 0  | 3  | -8 | 0  |  0  |  0  |  0  |  0  |  1  |  0  |  0  |  0  |  0  |  0  |  0  |  0  |  0  |  0  |\n",
      "|  Ecuación 9 | 0  | 0  | 0  | 0  | 3  | 0  | 0  | 0  | -8 |  1  |  0  |  0  |  0  |  0  |  1  |  0  |  0  |  0  |  0  |  0  |  0  |  0  |  3  |\n",
      "| Ecuación 10 | 0  | 0  | 0  | 0  | 0  | 3  | 0  | 0  | 3  |  -8 |  1  |  0  |  0  |  0  |  0  |  1  |  0  |  0  |  0  |  0  |  0  |  0  |  0  |\n",
      "| Ecuación 11 | 0  | 0  | 0  | 0  | 0  | 0  | 0  | 0  | 0  |  3  |  -8 |  1  |  0  |  0  |  0  |  0  |  0  |  0  |  0  |  0  |  0  |  0  |  0  |\n",
      "| Ecuación 12 | 0  | 0  | 0  | 0  | 0  | 0  | 0  | 0  | 0  |  0  |  3  |  -8 |  1  |  0  |  0  |  0  |  0  |  0  |  0  |  0  |  0  |  0  |  0  |\n",
      "| Ecuación 13 | 0  | 0  | 0  | 0  | 0  | 0  | 3  | 0  | 0  |  0  |  0  |  3  |  -8 |  1  |  0  |  0  |  1  |  0  |  0  |  0  |  0  |  0  |  0  |\n",
      "| Ecuación 14 | 0  | 0  | 0  | 0  | 0  | 0  | 0  | 3  | 0  |  0  |  0  |  0  |  3  |  -8 |  0  |  0  |  0  |  1  |  0  |  0  |  0  |  0  |  0  |\n",
      "| Ecuación 15 | 0  | 0  | 0  | 0  | 0  | 0  | 0  | 0  | 3  |  0  |  0  |  0  |  0  |  0  |  -8 |  1  |  0  |  0  |  1  |  0  |  0  |  0  |  3  |\n",
      "| Ecuación 16 | 0  | 0  | 0  | 0  | 0  | 0  | 0  | 0  | 0  |  3  |  0  |  0  |  0  |  0  |  3  |  -8 |  0  |  0  |  0  |  1  |  0  |  0  |  0  |\n",
      "| Ecuación 17 | 0  | 0  | 0  | 0  | 0  | 0  | 0  | 0  | 0  |  0  |  0  |  0  |  3  |  0  |  0  |  0  |  -8 |  1  |  0  |  0  |  1  |  0  |  0  |\n",
      "| Ecuación 18 | 0  | 0  | 0  | 0  | 0  | 0  | 0  | 0  | 0  |  0  |  0  |  0  |  0  |  3  |  0  |  0  |  3  |  -8 |  0  |  0  |  0  |  1  |  0  |\n",
      "| Ecuación 19 | 0  | 0  | 0  | 0  | 0  | 0  | 0  | 0  | 0  |  0  |  0  |  0  |  0  |  0  |  3  |  0  |  0  |  0  |  -8 |  1  |  0  |  0  |  3  |\n",
      "| Ecuación 20 | 0  | 0  | 0  | 0  | 0  | 0  | 0  | 0  | 0  |  0  |  0  |  0  |  0  |  0  |  0  |  3  |  0  |  0  |  3  |  -8 |  0  |  0  |  0  |\n",
      "| Ecuación 21 | 0  | 0  | 0  | 0  | 0  | 0  | 0  | 0  | 0  |  0  |  0  |  0  |  0  |  0  |  0  |  0  |  3  |  0  |  0  |  0  |  -8 |  1  |  0  |\n",
      "| Ecuación 22 | 0  | 0  | 0  | 0  | 0  | 0  | 0  | 0  | 0  |  0  |  0  |  0  |  0  |  0  |  0  |  0  |  0  |  3  |  0  |  0  |  3  |  -8 |  0  |\n",
      "+-------------+----+----+----+----+----+----+----+----+----+-----+-----+-----+-----+-----+-----+-----+-----+-----+-----+-----+-----+-----+-----+\n"
     ]
    }
   ],
   "source": [
    "import numpy as np\n",
    "#from auxiliares import limpiar_pantalla\n",
    "from prettytable import PrettyTable \n",
    "\n",
    "# Se define la malla a tratar con las condiciones iniciales\n",
    "\n",
    "v_0 = 1 # Velocidad inicial en x\n",
    "\n",
    "mallax = np.array(\n",
    "    [[1,  0,   0,   0,   0,   0,   0,  0],\n",
    "    [1, \"w1\", \"w2\", 0, 0, \"w3\", \"w4\", 0],\n",
    "    [1, \"w5\", \"w6\", 0, 0, \"w7\", \"w8\", 0],\n",
    "    [1, \"w9\", \"w10\", \"w11\", \"w12\", \"w13\", \"w14\", 0],\n",
    "    [1, \"w15\", \"w16\", 0, 0, \"w17\", \"w18\", 0],\n",
    "    [1, \"w19\", \"w20\", 0, 0, \"w21\", \"w22\", 0],\n",
    "    [1,  0,   0,   0,   0,   0,   0,  0]])\n",
    "\n",
    "mallay = np.array(\n",
    "    [[0,  0,   0,   0,   0,   0,   0,  0],\n",
    "    [0, \"w1\", \"w2\", 0, 0, \"w3\", \"w4\", 0],\n",
    "    [0, \"w5\", \"w6\", 0, 0, \"w7\", \"w8\", 0],\n",
    "    [0, \"w9\", \"w10\", \"w11\", \"w12\", \"w13\", \"w14\", 0],\n",
    "    [0, \"w15\", \"w16\", 0, 0, \"w17\", \"w18\", 0],\n",
    "    [0, \"w19\", \"w20\", 0, 0, \"w21\", \"w22\", 0],\n",
    "    [0,  0,   0,   0,   0,   0,   0,  0]])\n",
    "\n",
    "\n",
    "r_matrix = np.zeros((22, 23), dtype=int) # Almacenar los resultados finales de la discretización\n",
    "\n",
    "# Funtion that reshape results in a finish matrix the last colum are the numeric values\n",
    "\n",
    "def fixMatrix(values, count):\n",
    "    global r_matrix\n",
    "    acum = 0\n",
    "    for value in values:\n",
    "        if value[0] == 'w':\n",
    "            match np.where(values == value)[0][0]:\n",
    "                case 0:\n",
    "                    r_matrix[count][int(value[1:])-1] = 1\n",
    "                case 1:\n",
    "                    r_matrix[count][int(value[1:])-1] = -8\n",
    "                case 2:\n",
    "                    r_matrix[count][int(value[1:])-1] = 3\n",
    "                case 3:\n",
    "                    r_matrix[count][int(value[1:])-1] = 3\n",
    "                case 4:\n",
    "                    r_matrix[count][int(value[1:])-1] = 1\n",
    "        else:\n",
    "            match np.where(values == value)[0][0]:\n",
    "                case 0:\n",
    "                    acum += int(value)*1\n",
    "                case 1:\n",
    "                    acum += int(value)*-8\n",
    "                case 2:\n",
    "                    acum += int(value)*3\n",
    "                case 3:\n",
    "                    acum += int(value)*3\n",
    "                case 4:\n",
    "                    acum += int(value)*1\n",
    "    r_matrix[count][-1] = acum\n",
    "\n",
    "\n",
    "# Funtion that find the positions needed in navier-stokes using Finite differences\n",
    "def discretization(malla):\n",
    "    count = 0\n",
    "    for row in range(7):\n",
    "        for colum in range(8):\n",
    "            if malla[row][colum][0] == 'w':\n",
    "                temp = np.array([malla[row][colum+1], malla[row][colum],\n",
    "                                malla[row][colum-1], malla[row-1][colum], malla[row+1][colum]])\n",
    "                fixMatrix(temp, count)\n",
    "                count += 1\n",
    "\n",
    "\n",
    "if __name__ == \"__main__\":\n",
    "    discretization(mallax)\n",
    "\n",
    "    column_names = [f\"W{i}\" for i in range(1, 24)]\n",
    "    column_names[-1] = \"T.I\"\n",
    "    \n",
    "    # Create a table to format de r_matrix table\n",
    "    table = PrettyTable()\n",
    "    table.field_names = [\"\"] + column_names \n",
    "    \n",
    "    for i, row in enumerate(r_matrix, start=1):\n",
    "        equation_label = f\"Ecuación {i}\"\n",
    "        row_as_strings = [str(value) for value in row]\n",
    "        table.add_row([equation_label] + row_as_strings)\n",
    "        \n",
    "\n",
    "    print(table)"
   ]
  },
  {
   "cell_type": "markdown",
   "id": "0d2ce82b-3b8c-4f67-b526-c39b2071d1e9",
   "metadata": {},
   "source": [
    "# Second Part Of The Solution\n",
    "\n",
    "To solve the problem of finding the solution for the parameter variables, use Successive Over-Relaxation (SOR) to aproch the solution faster.\n",
    "\n",
    "- First check if the matrix is strictly diagonally dominant"
   ]
  },
  {
   "cell_type": "code",
   "execution_count": 4,
   "id": "8f39f6c8-c9ec-4ded-8619-f856467321b2",
   "metadata": {},
   "outputs": [
    {
     "name": "stdout",
     "output_type": "stream",
     "text": [
      "matrix is diagonally dominant\n"
     ]
    }
   ],
   "source": [
    "'''\n",
    "Funtion that checks if a matrix is diagonally dominant\n",
    "X = Matrix\n",
    "'''\n",
    "def dd(X):\n",
    "    M = np.delete(X,-1,1)\n",
    "    D = np.diag(np.abs(M)) # Find diagonal coefficients\n",
    "    S = np.sum(np.abs(M), axis=1) - D # Find row sum without diagonal\n",
    "    if np.all(D >= S):\n",
    "        print( 'matrix is diagonally dominant')\n",
    "    else:\n",
    "        print ('NOT diagonally dominant')\n",
    "\n",
    "dd(r_matrix)"
   ]
  },
  {
   "cell_type": "markdown",
   "id": "4c68a715-ce59-4ce8-8b2b-99745f20d65c",
   "metadata": {},
   "source": [
    "Now that the conditions are meet and we know the method will converge in a solution we use SOR\n"
   ]
  },
  {
   "cell_type": "code",
   "execution_count": 5,
   "id": "68e89924-eacd-4a89-8285-fedbf81bf0f8",
   "metadata": {},
   "outputs": [],
   "source": [
    "'''\n",
    "Funtion that use jacobi method in a especific row\n",
    "R = Row to apply jacobi\n",
    "S = array of initial solutions for the row\n",
    "nn = interation value, in other words for which variable we want to apply jacobi.\n",
    "'''\n",
    "def jacobi(R,S,nn):\n",
    "    acum =0\n",
    "    c = -R[-1]/R[nn]\n",
    "   # print(f\"{-R[-1]}/{R[nn]} = {c}\")\n",
    "    acum += c\n",
    "    for i in range(len(R)-1):\n",
    "        #print(f\"{-R[i]} / {R[nn]}*{S[i]} = {(-R[i]/ R[nn]) * S[i]}\")\n",
    "        acum+= ( (-R[i]/ R[nn]) * S[i] ) if i != nn else 0\n",
    "    return acum"
   ]
  },
  {
   "cell_type": "code",
   "execution_count": 10,
   "id": "25f7f7be-0472-4612-a781-84bb9aa5c6bc",
   "metadata": {},
   "outputs": [
    {
     "data": {
      "text/plain": [
       "0.0"
      ]
     },
     "execution_count": 10,
     "metadata": {},
     "output_type": "execute_result"
    }
   ],
   "source": [
    "jacobi(r_matrix[-1],np.zeros(22),21)"
   ]
  },
  {
   "cell_type": "code",
   "execution_count": 52,
   "id": "f32cda10-f915-4b3b-a758-1b883f6c1c6f",
   "metadata": {},
   "outputs": [],
   "source": [
    "'''\n",
    "Funtion that checks if the given solutions satisfy the tolerance\n",
    "S = Preview solution\n",
    "NS = New Solution\n",
    "tol = tolerance\n",
    "'''\n",
    "def check_tolerance(S,NS,tol):\n",
    "    #Infinity Norm\n",
    "    error = ( np.max(np.abs(NS)) - np.max(np.abs(S)) )/ np.max(np.abs(NS))\n",
    "    print(\"Error: \",error)\n",
    "    if error > tol : return True \n",
    "    else: return False \n",
    "    "
   ]
  },
  {
   "cell_type": "code",
   "execution_count": 57,
   "id": "041a522a-8082-4d1f-8f5f-3225ba199a9b",
   "metadata": {},
   "outputs": [],
   "source": [
    "'''\n",
    "Funtion that use Successive Over-Relaxation in an especific matrix.\n",
    "M = Matrix of coeficients with idependent vector  \n",
    "omega = stride for faster convergence.\n",
    "tol = tolerance\n",
    "'''\n",
    "\n",
    "def SOR(M,omega,tol):\n",
    "    l = len(M)\n",
    "    S= np.zeros(l)\n",
    "    OS = np.copy(S)\n",
    "    acum = 0\n",
    "    for i in range(l):\n",
    "        c = -M[i][-1]/M[i][i]\n",
    "        S[i] = c    \n",
    "    while check_tolerance(OS,S,tol):\n",
    "        acum += 1\n",
    "        OS = np.copy(S)\n",
    "        for i in range(l):\n",
    "            S[i] = (1 - omega) * S[i] + omega * jacobi(M[i],S,i)\n",
    "    print(f\"Number of iterations: {acum}\")\n",
    "    print(\"Solutions: \")\n",
    "    print(S)"
   ]
  },
  {
   "cell_type": "code",
   "execution_count": 56,
   "id": "1cbc1afb-7899-40e4-98ae-fe4e6640680b",
   "metadata": {
    "scrolled": true
   },
   "outputs": [
    {
     "name": "stdout",
     "output_type": "stream",
     "text": [
      "Error:  1.0\n",
      "Error:  0.5012888566111955\n",
      "Error:  0.12072251780308257\n",
      "Error:  0.004822101940646059\n",
      "Number of iterations: 3\n",
      "Solutions: \n",
      "[0.49391285 0.23860971 0.00099771 0.0013469  0.71613287 0.43120175\n",
      " 0.00612231 0.00512097 0.82449689 0.57724476 0.22739601 0.09039226\n",
      " 0.04100276 0.01911735 0.85932119 0.59997487 0.01832543 0.01500941\n",
      " 0.75815391 0.50843105 0.00782167 0.00863033]\n"
     ]
    }
   ],
   "source": [
    "SOR(r_matrix,1.2,0.1)"
   ]
  },
  {
   "cell_type": "code",
   "execution_count": null,
   "id": "78af130f-1cbd-458f-966f-775c24f142bc",
   "metadata": {},
   "outputs": [],
   "source": []
  }
 ],
 "metadata": {
  "kernelspec": {
   "display_name": "Python 3 (ipykernel)",
   "language": "python",
   "name": "python3"
  },
  "language_info": {
   "codemirror_mode": {
    "name": "ipython",
    "version": 3
   },
   "file_extension": ".py",
   "mimetype": "text/x-python",
   "name": "python",
   "nbconvert_exporter": "python",
   "pygments_lexer": "ipython3",
   "version": "3.10.10"
  }
 },
 "nbformat": 4,
 "nbformat_minor": 5
}
